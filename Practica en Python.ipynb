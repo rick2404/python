{
 "cells": [
  {
   "cell_type": "markdown",
   "metadata": {},
   "source": [
    "# Impostaciones\n",
    "Empezamos importando todas las librerias y cargando los datos!"
   ]
  },
  {
   "cell_type": "code",
   "execution_count": null,
   "metadata": {},
   "outputs": [],
   "source": [
    "#Importamos todos los paquetes que vamos a necesitar\n",
    "import pandas as pd\n",
    "import numpy as np\n",
    "import seaborn as sns\n",
    "import matplotlib.pyplot as plt\n",
    "from math import sqrt"
   ]
  },
  {
   "cell_type": "code",
   "execution_count": null,
   "metadata": {},
   "outputs": [],
   "source": [
    "# cargamos nuestro dataset\n",
    "wine = pd.read_csv('vinos_tintos.csv')"
   ]
  },
  {
   "cell_type": "markdown",
   "metadata": {},
   "source": [
    "# Analisis univariadas y limpieza de datos"
   ]
  },
  {
   "cell_type": "code",
   "execution_count": null,
   "metadata": {},
   "outputs": [],
   "source": [
    "# miramos el dataset y como aparece!\n",
    "wine.head()"
   ]
  },
  {
   "cell_type": "code",
   "execution_count": null,
   "metadata": {},
   "outputs": [],
   "source": [
    "# miramos ahora las tipologia de variables que tenemos\n",
    "wine.info()"
   ]
  },
  {
   "cell_type": "code",
   "execution_count": null,
   "metadata": {},
   "outputs": [],
   "source": [
    "wine.describe()"
   ]
  },
  {
   "cell_type": "code",
   "execution_count": null,
   "metadata": {},
   "outputs": [],
   "source": [
    "# empezamos con un grafico de barras de la proveniencia geografica\n",
    "sns.countplot(x='country', data=wine)"
   ]
  },
  {
   "cell_type": "code",
   "execution_count": null,
   "metadata": {},
   "outputs": [],
   "source": [
    "# selecionamos todas las lineas que contienen \"spa\"\n",
    "spain_data = wine['country'].str.contains('spa', case = False)\n",
    "spain_data"
   ]
  },
  {
   "cell_type": "code",
   "execution_count": null,
   "metadata": {},
   "outputs": [],
   "source": [
    "# si una linea contiene spa, la convertimos en Espana\n",
    "wine['country'] = np.where(spain_data, 'Spain', wine['country'])"
   ]
  },
  {
   "cell_type": "code",
   "execution_count": null,
   "metadata": {},
   "outputs": [],
   "source": [
    "#despues de esta correcion, podemos mirar otra vez nuestro grafico de barras\n",
    "sns.countplot(x='country', data=wine)"
   ]
  },
  {
   "cell_type": "code",
   "execution_count": null,
   "metadata": {},
   "outputs": [],
   "source": [
    "# seguimos ahora con un grafico de barras de los rango de precios\n",
    "sns.countplot(x='pricing', data=wine)"
   ]
  },
  {
   "cell_type": "code",
   "execution_count": null,
   "metadata": {},
   "outputs": [],
   "source": [
    "# ahora hacemos un boxplot de la variable success\n",
    "sns.boxplot(y = 'success', data = wine)"
   ]
  },
  {
   "cell_type": "code",
   "execution_count": null,
   "metadata": {},
   "outputs": [],
   "source": [
    "#seguimos con un histograma\n",
    "sns.distplot(wine['success'])"
   ]
  },
  {
   "cell_type": "code",
   "execution_count": null,
   "metadata": {},
   "outputs": [],
   "source": [
    "# y si quieremos ver frequencias en lugar de probabilidades\n",
    "sns.distplot(wine['success'], kde = False)"
   ]
  },
  {
   "cell_type": "code",
   "execution_count": null,
   "metadata": {
    "scrolled": true
   },
   "outputs": [],
   "source": [
    "# ahora miramos el percentaje de azucar\n",
    "sns.boxplot(y = 'residual sugar', data = wine)"
   ]
  },
  {
   "cell_type": "code",
   "execution_count": null,
   "metadata": {},
   "outputs": [],
   "source": [
    "# y si queremos eliminar los valores anomalos negativos?\n",
    "negative_sugar = wine['residual sugar'] < 0\n",
    "wine = wine.drop(wine[negative_sugar].index)"
   ]
  },
  {
   "cell_type": "code",
   "execution_count": null,
   "metadata": {
    "scrolled": true
   },
   "outputs": [],
   "source": [
    "# ahora miramos el percentaje de azucar otra vez, despues de haber eliminados estos valores\n",
    "sns.boxplot(y = 'residual sugar', data = wine)"
   ]
  },
  {
   "cell_type": "code",
   "execution_count": null,
   "metadata": {},
   "outputs": [],
   "source": [
    "# ahora vamos a ver si hay valores faltantes\n",
    "wine.isnull().sum()"
   ]
  },
  {
   "cell_type": "code",
   "execution_count": null,
   "metadata": {},
   "outputs": [],
   "source": [
    "# ya que son pocos, podemos quitar estas lineas\n",
    "wine = wine[wine['residual sugar'].notna()]\n",
    "wine = wine[wine['alcohol'].notna()]\n",
    "wine = wine[wine['fixed acidity'].notna()]"
   ]
  },
  {
   "cell_type": "code",
   "execution_count": null,
   "metadata": {},
   "outputs": [],
   "source": [
    "# comprobamos ahora que se hayan eliminado\n",
    "print(wine['residual sugar'].isnull().sum())\n",
    "print(wine['alcohol'].isnull().sum())\n",
    "print(wine['fixed acidity'].isnull().sum())"
   ]
  },
  {
   "cell_type": "code",
   "execution_count": null,
   "metadata": {
    "scrolled": true
   },
   "outputs": [],
   "source": [
    "# por fin, miramos histograma y boxplot de alcohol\n",
    "sns.boxplot(y = 'alcohol', data = wine)\n",
    "plt.figure()\n",
    "sns.distplot(wine['alcohol'], kde = False)"
   ]
  },
  {
   "cell_type": "markdown",
   "metadata": {},
   "source": [
    "# Analisis multivariadas"
   ]
  },
  {
   "cell_type": "code",
   "execution_count": null,
   "metadata": {},
   "outputs": [],
   "source": [
    "# Primero empezamos con el scatter plot\n",
    "sns.relplot(x=\"alcohol\", y=\"success\", data=wine)"
   ]
  },
  {
   "cell_type": "code",
   "execution_count": null,
   "metadata": {},
   "outputs": [],
   "source": [
    "# ahora scatter plot mas linea, para identificar mejor las tendencias\n",
    "sns.regplot(x='alcohol', y=\"success\", data=wine)"
   ]
  },
  {
   "cell_type": "code",
   "execution_count": null,
   "metadata": {},
   "outputs": [],
   "source": [
    "# ahora vamos con correlacion entre variable categorica y variable numerica!\n",
    "print(sns.barplot(x = 'country', y = 'success', data = wine))"
   ]
  },
  {
   "cell_type": "code",
   "execution_count": null,
   "metadata": {},
   "outputs": [],
   "source": [
    "# mismas variables, con el boxplot lo vemos con mas detalles\n",
    "sns.boxplot(x = 'country', y = 'success', data = wine)"
   ]
  },
  {
   "cell_type": "code",
   "execution_count": null,
   "metadata": {
    "scrolled": true
   },
   "outputs": [],
   "source": [
    "# y si queremos mirar todas las correlaciones?\n",
    "corr = wine.corr()\n",
    "plt.figure(figsize=(10, 10))\n",
    "sns.heatmap(corr, vmax=.8, linewidths=0.01,\n",
    "            square=True,annot=True)"
   ]
  },
  {
   "cell_type": "code",
   "execution_count": null,
   "metadata": {},
   "outputs": [],
   "source": [
    "# y si queremos mirar todos los scatter plot?\n",
    "sns.pairplot(wine)"
   ]
  },
  {
   "cell_type": "markdown",
   "metadata": {},
   "source": [
    "# Visualizaciones de datos"
   ]
  },
  {
   "cell_type": "code",
   "execution_count": null,
   "metadata": {},
   "outputs": [],
   "source": [
    "sns.lmplot(x='alcohol', y=\"success\", data=wine)"
   ]
  },
  {
   "cell_type": "code",
   "execution_count": null,
   "metadata": {},
   "outputs": [],
   "source": [
    "sns.lmplot(x='alcohol', y=\"success\", data=wine, truncate = True, scatter_kws={'s':0.8, 'alpha':0.3})"
   ]
  },
  {
   "cell_type": "code",
   "execution_count": null,
   "metadata": {},
   "outputs": [],
   "source": [
    "sns.lmplot(x='alcohol', y=\"success\", col = 'country', data=wine, truncate = True, scatter_kws={'s':0.8, 'alpha':0.3})"
   ]
  },
  {
   "cell_type": "code",
   "execution_count": null,
   "metadata": {},
   "outputs": [],
   "source": [
    "alcohol_success_plot = sns.lmplot(x='alcohol', y=\"success\", data=wine, col = 'country', truncate = True, scatter_kws={'s':0.8, 'alpha':0.3})\n",
    "sns.despine()\n",
    "axes = alcohol_success_plot.axes.flatten()\n",
    "axes[0].set_title(\"Vinos espanoles\")\n",
    "axes[1].set_title(\"Vinos espanoles\")\n"
   ]
  },
  {
   "cell_type": "code",
   "execution_count": null,
   "metadata": {},
   "outputs": [],
   "source": [
    "alcohol_success_plot = sns.lmplot(x='alcohol', y=\"success\", data=wine, col = 'country', truncate = True, scatter_kws={'s':0.8, 'alpha':0.3})\n",
    "sns.despine()\n",
    "axes = alcohol_success_plot.axes.flatten()\n",
    "axes[0].set_title(\"Vinos italianos\")\n",
    "axes[1].set_title(\"Vinos espanoles\")\n",
    "vals = axes[1].get_xticks()\n",
    "axes[1].set_xticklabels(['{:,.1%}'.format(x) for x in vals])"
   ]
  },
  {
   "cell_type": "code",
   "execution_count": null,
   "metadata": {},
   "outputs": [],
   "source": []
  },
  {
   "cell_type": "code",
   "execution_count": null,
   "metadata": {},
   "outputs": [],
   "source": [
    "alcohol_success_plot = sns.lmplot(x='alcohol', y=\"success\", data=wine, col = 'country', truncate = True, scatter_kws={'s':0.8, 'alpha':0.3})\n",
    "sns.despine()\n",
    "axes = alcohol_success_plot.axes.flatten()\n",
    "axes[0].set_title(\"Vinos italianos\")\n",
    "axes[1].set_title(\"Vinos espanoles\")\n",
    "vals = axes[1].get_xticks()\n",
    "axes[1].set_xticklabels(['{:,.1%}'.format(x) for x in vals])\n",
    "plt.suptitle('Más alcohol, más éxito, en Italia como en España! \\n  ¡Podemos predecir el éxito de un vino!',fontsize=24,ha='center',va='top',color='#000088', y=1.2)"
   ]
  },
  {
   "cell_type": "code",
   "execution_count": null,
   "metadata": {},
   "outputs": [],
   "source": []
  },
  {
   "cell_type": "markdown",
   "metadata": {},
   "source": [
    "# Nuestro primero model predictivo"
   ]
  },
  {
   "cell_type": "code",
   "execution_count": null,
   "metadata": {},
   "outputs": [],
   "source": [
    "# cargamos las funciones necesarias\n",
    "from sklearn.linear_model import LinearRegression\n",
    "from sklearn.model_selection import train_test_split"
   ]
  },
  {
   "cell_type": "code",
   "execution_count": null,
   "metadata": {},
   "outputs": [],
   "source": [
    "# primero: dividimos los datos entre training y test, la variable dependente (y) como las independientes\n",
    "X = wine[['alcohol']]\n",
    "y = wine['success']\n",
    "X_train, X_test, y_train, y_test = train_test_split(X, y, test_size = 0.2, random_state = 3)"
   ]
  },
  {
   "cell_type": "code",
   "execution_count": null,
   "metadata": {},
   "outputs": [],
   "source": [
    "# vemos que tenemos en el split\n",
    "X_train"
   ]
  },
  {
   "cell_type": "code",
   "execution_count": null,
   "metadata": {},
   "outputs": [],
   "source": [
    "X_test"
   ]
  },
  {
   "cell_type": "code",
   "execution_count": null,
   "metadata": {},
   "outputs": [],
   "source": [
    "y_train"
   ]
  },
  {
   "cell_type": "code",
   "execution_count": null,
   "metadata": {},
   "outputs": [],
   "source": [
    "y_test"
   ]
  },
  {
   "cell_type": "code",
   "execution_count": null,
   "metadata": {},
   "outputs": [],
   "source": [
    "# escogemos como algoritmo una regresion linear\n",
    "regr = LinearRegression()\n",
    "# Entrenamos el modelo utilizando el train set\n",
    "regr.fit(X_train,y_train)"
   ]
  },
  {
   "cell_type": "code",
   "execution_count": null,
   "metadata": {},
   "outputs": [],
   "source": [
    "# probamos ahora valores distintos\n",
    "regr.predict([[0.11]])"
   ]
  },
  {
   "cell_type": "markdown",
   "metadata": {},
   "source": [
    "# Evaluaciones de modelo predictivo\n"
   ]
  },
  {
   "cell_type": "code",
   "execution_count": null,
   "metadata": {},
   "outputs": [],
   "source": [
    "from sklearn.metrics import mean_squared_error, mean_absolute_error"
   ]
  },
  {
   "cell_type": "code",
   "execution_count": null,
   "metadata": {},
   "outputs": [],
   "source": [
    "# hacemos las predicciones en el test set\n",
    "regr.predict(X_test)"
   ]
  },
  {
   "cell_type": "code",
   "execution_count": null,
   "metadata": {},
   "outputs": [],
   "source": [
    "# ahora miramos el error\n",
    "print(mean_absolute_error(regr.predict(X_test), y_test))\n",
    "print(sqrt(mean_squared_error(regr.predict(X_test), y_test)))"
   ]
  },
  {
   "cell_type": "code",
   "execution_count": null,
   "metadata": {},
   "outputs": [],
   "source": [
    "# ahora probamos un otro modelo, usando alcohol y acidez\n",
    "X2 = wine[['alcohol', 'volatile acidity']]\n",
    "y2 = wine['success']\n",
    "X2_train, X2_test, y2_train, y2_test = train_test_split(X2, y2, test_size = 0.2, random_state = 3)\n",
    "regr2 = LinearRegression()\n",
    "# Entrenamos el modelo utilizando el train set\n",
    "regr2.fit(X2_train,y2_train)\n",
    "print(mean_absolute_error(regr2.predict(X2_test), y2_test))\n",
    "print(sqrt(mean_squared_error(regr2.predict(X2_test), y2_test)))"
   ]
  },
  {
   "cell_type": "markdown",
   "metadata": {},
   "source": [
    "# Encoding de variables"
   ]
  },
  {
   "cell_type": "code",
   "execution_count": null,
   "metadata": {},
   "outputs": [],
   "source": [
    "# importamos hacemos encoding de nuestras variables!\n",
    "wine['is_spain'] = np.where(wine['country'] == 'Spain', 1, 0)\n",
    "wine['pricing_enc'] = np.where(wine['pricing'] == 'Budget', 1, np.where(wine['pricing'] == 'Medium', 2, 3))\n",
    "wine"
   ]
  },
  {
   "cell_type": "code",
   "execution_count": null,
   "metadata": {},
   "outputs": [],
   "source": [
    "# Evaluamos otra vez la performance de este modelo\n",
    "# ahora probamos un otro modelo, usando alcohol y acidez\n",
    "X3 = wine.drop(['country', 'pricing', 'success'], axis = 1)\n",
    "y3 = wine['success']\n",
    "X3_train, X3_test, y3_train, y3_test = train_test_split(X3, y3, test_size = 0.2, random_state = 3)\n",
    "regr3 = LinearRegression()\n",
    "# Entrenamos el modelo utilizando el train set\n",
    "regr3.fit(X3_train,y3_train)\n",
    "print(mean_absolute_error(regr3.predict(X3_test), y3_test))\n",
    "print(sqrt(mean_squared_error(regr3.predict(X3_test), y3_test)))"
   ]
  },
  {
   "cell_type": "markdown",
   "metadata": {},
   "source": [
    "# Random Forest and hyperparameter optimization"
   ]
  },
  {
   "cell_type": "code",
   "execution_count": null,
   "metadata": {},
   "outputs": [],
   "source": [
    "from sklearn.ensemble import RandomForestRegressor\n",
    "from sklearn.model_selection import GridSearchCV"
   ]
  },
  {
   "cell_type": "code",
   "execution_count": null,
   "metadata": {},
   "outputs": [],
   "source": [
    "# Ahora pruebamos un modelo de random forest en lugar de uno de linear regression.\n",
    "# Empezamos con parametros fijos\n",
    "X4 = wine.drop(['country', 'pricing', 'success'], axis = 1)\n",
    "y4 = wine['success']\n",
    "X4_train, X4_test, y4_train, y4_test = train_test_split(X4, y4, test_size = 0.2, random_state = 3)\n",
    "regr4 = RandomForestRegressor(n_estimators = 5, max_features = 10)\n",
    "# Entrenamos el modelo utilizando el train set\n",
    "regr4.fit(X4_train,y4_train)\n",
    "print(mean_absolute_error(regr4.predict(X4_test), y4_test))\n",
    "print(sqrt(mean_squared_error(regr4.predict(X4_test), y4_test)))"
   ]
  },
  {
   "cell_type": "code",
   "execution_count": null,
   "metadata": {},
   "outputs": [],
   "source": [
    "# probamos ahora distintos parametros por las forestas aleatorias\n",
    "param_grid = [\n",
    "{'n_estimators': [10, 25, 100, 150, 200], 'max_features': [5, 10]}]\n",
    "\n",
    "grid_search_forest = GridSearchCV(regr4, param_grid, cv=10, scoring='neg_mean_absolute_error')\n",
    "grid_search_forest.fit(X4_train, y4_train)"
   ]
  },
  {
   "cell_type": "code",
   "execution_count": null,
   "metadata": {},
   "outputs": [],
   "source": [
    "#seleccionamos el mejor\n",
    "best_forest = grid_search_forest.best_estimator_\n",
    "best_forest"
   ]
  },
  {
   "cell_type": "code",
   "execution_count": null,
   "metadata": {},
   "outputs": [],
   "source": [
    "# miramos ahora el resultado\n",
    "best_forest.fit(X4_train,y4_train)\n",
    "print(mean_absolute_error(best_forest.predict(X4_test), y4_test))\n",
    "print(sqrt(mean_squared_error(best_forest.predict(X4_test), y4_test)))"
   ]
  },
  {
   "cell_type": "code",
   "execution_count": null,
   "metadata": {},
   "outputs": [],
   "source": []
  }
 ],
 "metadata": {
  "kernelspec": {
   "display_name": "Python 3",
   "language": "python",
   "name": "python3"
  },
  "language_info": {
   "codemirror_mode": {
    "name": "ipython",
    "version": 3
   },
   "file_extension": ".py",
   "mimetype": "text/x-python",
   "name": "python",
   "nbconvert_exporter": "python",
   "pygments_lexer": "ipython3",
   "version": "3.8.3"
  }
 },
 "nbformat": 4,
 "nbformat_minor": 2
}
